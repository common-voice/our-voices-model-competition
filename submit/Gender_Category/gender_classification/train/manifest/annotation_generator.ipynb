{
 "cells": [
  {
   "cell_type": "code",
   "execution_count": 1,
   "metadata": {},
   "outputs": [],
   "source": [
    "import json\n",
    "import random"
   ]
  },
  {
   "cell_type": "code",
   "execution_count": 2,
   "metadata": {},
   "outputs": [],
   "source": [
    "def json_merge(file1, file2):\n",
    "    with open(file1) as f:\n",
    "        data = json.load(f)\n",
    "        print(len(data))\n",
    "    with open(file2) as f2:\n",
    "        data2 = json.load(f2)\n",
    "        print(len(data2))\n",
    "    \n",
    "    merged_data = dict(data, **data2)\n",
    "\n",
    "    l = list(merged_data.items())\n",
    "    random.shuffle(l)\n",
    "    merged_data = dict(l)\n",
    "\n",
    "    print(\"Merge: \", len(merged_data))\n",
    "\n",
    "    return merged_data"
   ]
  },
  {
   "cell_type": "code",
   "execution_count": 3,
   "metadata": {},
   "outputs": [],
   "source": [
    "# Root of each dataset's annotation\n",
    "cv11_root = \"../../../data//commonvoice11/annotation/gender_classification_manifest\"\n",
    "thai_ser_root = \"../../../data/thai_ser/annotation/gender_classification_manifest\"\n",
    "ds = [\"train\", \"valid\", \"test\"]"
   ]
  },
  {
   "cell_type": "code",
   "execution_count": 4,
   "metadata": {},
   "outputs": [
    {
     "name": "stdout",
     "output_type": "stream",
     "text": [
      "26178\n",
      "15100\n",
      "Merge:  41278\n",
      "3760\n",
      "3671\n",
      "Merge:  7431\n",
      "867\n",
      "3465\n",
      "Merge:  4332\n"
     ]
    }
   ],
   "source": [
    "for ds_name in ds:\n",
    "    fname = \"{}.json\".format(ds_name)\n",
    "    cv11_path = os.path.join(cv11_root, fname)\n",
    "    thai_ser_path = os.path.join(thai_ser_root, fname)\n",
    "\n",
    "    merged_data = json_merge(cv11_path, thai_ser_path)\n",
    "    \n",
    "    dst_file = \"./speechbrain_{}.json\".format(ds_name)\n",
    "    with open(dst_file, \"w\") as fp:\n",
    "        fp.write(json.dumps(merged_data, indent=4))\n"
   ]
  },
  {
   "cell_type": "code",
   "execution_count": null,
   "metadata": {},
   "outputs": [],
   "source": []
  }
 ],
 "metadata": {
  "kernelspec": {
   "display_name": "Python 3.8.10 64-bit",
   "language": "python",
   "name": "python3"
  },
  "language_info": {
   "codemirror_mode": {
    "name": "ipython",
    "version": 3
   },
   "file_extension": ".py",
   "mimetype": "text/x-python",
   "name": "python",
   "nbconvert_exporter": "python",
   "pygments_lexer": "ipython3",
   "version": "3.8.10"
  },
  "orig_nbformat": 4,
  "vscode": {
   "interpreter": {
    "hash": "31f2aee4e71d21fbe5cf8b01ff0e069b9275f58929596ceb00d14d90e3e16cd6"
   }
  }
 },
 "nbformat": 4,
 "nbformat_minor": 2
}
