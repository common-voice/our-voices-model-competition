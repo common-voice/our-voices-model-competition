{
 "cells": [
  {
   "cell_type": "code",
   "execution_count": 1,
   "metadata": {},
   "outputs": [
    {
     "name": "stderr",
     "output_type": "stream",
     "text": [
      "/home/nuttawac/.conda/envs/test_gender/lib/python3.8/site-packages/tqdm/auto.py:22: TqdmWarning: IProgress not found. Please update jupyter and ipywidgets. See https://ipywidgets.readthedocs.io/en/stable/user_install.html\n",
      "  from .autonotebook import tqdm as notebook_tqdm\n",
      "torchvision is not available - cannot save figures\n"
     ]
    }
   ],
   "source": [
    "import os\n",
    "import torchaudio\n",
    "from speechbrain.pretrained import EncoderClassifier\n",
    "import pandas as pd\n",
    "from tqdm import tqdm"
   ]
  },
  {
   "cell_type": "code",
   "execution_count": 2,
   "metadata": {},
   "outputs": [],
   "source": [
    "audio_path = \"common_voice_th_25883229.wav\"\n",
    "\n",
    "classifier = EncoderClassifier.from_hparams(\n",
    "    source=\"./models/pretrained_model\", \n",
    "    hparams_file=\"./models/hparams_inference.yaml\", \n",
    "    savedir=\"./models/save\"\n",
    "    )\n",
    "signal, fs = torchaudio.load(audio_path) \n",
    "output_probs, score, index, class_pred = classifier.classify_batch(signal)\n"
   ]
  },
  {
   "cell_type": "code",
   "execution_count": 3,
   "metadata": {},
   "outputs": [
    {
     "data": {
      "text/plain": [
       "'Male'"
      ]
     },
     "execution_count": 3,
     "metadata": {},
     "output_type": "execute_result"
    }
   ],
   "source": [
    "class_pred[0]"
   ]
  },
  {
   "cell_type": "code",
   "execution_count": null,
   "metadata": {},
   "outputs": [],
   "source": []
  },
  {
   "cell_type": "markdown",
   "metadata": {},
   "source": [
    "## Inference whole dataset"
   ]
  },
  {
   "cell_type": "code",
   "execution_count": 4,
   "metadata": {},
   "outputs": [
    {
     "name": "stderr",
     "output_type": "stream",
     "text": [
      "/tmp/ipykernel_1720847/1803988364.py:3: DtypeWarning: Columns (7,9) have mixed types. Specify dtype option on import or set low_memory=False.\n",
      "  df = pd.read_csv(df_path, sep=\"\\t\")\n"
     ]
    },
    {
     "data": {
      "text/html": [
       "<div>\n",
       "<style scoped>\n",
       "    .dataframe tbody tr th:only-of-type {\n",
       "        vertical-align: middle;\n",
       "    }\n",
       "\n",
       "    .dataframe tbody tr th {\n",
       "        vertical-align: top;\n",
       "    }\n",
       "\n",
       "    .dataframe thead th {\n",
       "        text-align: right;\n",
       "    }\n",
       "</style>\n",
       "<table border=\"1\" class=\"dataframe\">\n",
       "  <thead>\n",
       "    <tr style=\"text-align: right;\">\n",
       "      <th></th>\n",
       "      <th>client_id</th>\n",
       "      <th>path</th>\n",
       "      <th>sentence</th>\n",
       "      <th>up_votes</th>\n",
       "      <th>down_votes</th>\n",
       "      <th>age</th>\n",
       "      <th>gender</th>\n",
       "      <th>accents</th>\n",
       "      <th>locale</th>\n",
       "      <th>segment</th>\n",
       "    </tr>\n",
       "  </thead>\n",
       "  <tbody>\n",
       "    <tr>\n",
       "      <th>0</th>\n",
       "      <td>00086f5dc46f9038f13bbd829c4118fab3ac28688d5ee8...</td>\n",
       "      <td>common_voice_th_25695281.mp3</td>\n",
       "      <td>ใครเป็นผู้รับ</td>\n",
       "      <td>2</td>\n",
       "      <td>0</td>\n",
       "      <td>NaN</td>\n",
       "      <td>NaN</td>\n",
       "      <td>NaN</td>\n",
       "      <td>th</td>\n",
       "      <td>NaN</td>\n",
       "    </tr>\n",
       "    <tr>\n",
       "      <th>1</th>\n",
       "      <td>00245363f02e6f86a15de6793dc282d6f7095a8db6889b...</td>\n",
       "      <td>common_voice_th_31277118.mp3</td>\n",
       "      <td>รู้ได้ไงว่าเขาไม่หนุก</td>\n",
       "      <td>2</td>\n",
       "      <td>0</td>\n",
       "      <td>NaN</td>\n",
       "      <td>NaN</td>\n",
       "      <td>NaN</td>\n",
       "      <td>th</td>\n",
       "      <td>NaN</td>\n",
       "    </tr>\n",
       "    <tr>\n",
       "      <th>2</th>\n",
       "      <td>005237750a4d82bf743fe1e6eb0e4a579f0eb6a2455aaf...</td>\n",
       "      <td>common_voice_th_25722081.mp3</td>\n",
       "      <td>การที่จะทำเค้กแต่งงานชั้นเลิศคุณจะต้องใช้น้ำตา...</td>\n",
       "      <td>3</td>\n",
       "      <td>0</td>\n",
       "      <td>NaN</td>\n",
       "      <td>NaN</td>\n",
       "      <td>NaN</td>\n",
       "      <td>th</td>\n",
       "      <td>NaN</td>\n",
       "    </tr>\n",
       "    <tr>\n",
       "      <th>3</th>\n",
       "      <td>00abfc84881a0c3f6166adb1549b4c17085df70b833144...</td>\n",
       "      <td>common_voice_th_25792357.mp3</td>\n",
       "      <td>เขาหยุด แล้วคว้ามือออกมา เฉียดตัวฉันไปเส้นยาแเ...</td>\n",
       "      <td>2</td>\n",
       "      <td>0</td>\n",
       "      <td>NaN</td>\n",
       "      <td>NaN</td>\n",
       "      <td>NaN</td>\n",
       "      <td>th</td>\n",
       "      <td>NaN</td>\n",
       "    </tr>\n",
       "    <tr>\n",
       "      <th>4</th>\n",
       "      <td>00d8e38f434aecc821a4b83ca441d1e780de1e71cae734...</td>\n",
       "      <td>common_voice_th_25695038.mp3</td>\n",
       "      <td>ผู้ชายคือช้างเท้าหน้า แต่ผู้หญิงคือควาญช้าง</td>\n",
       "      <td>2</td>\n",
       "      <td>1</td>\n",
       "      <td>NaN</td>\n",
       "      <td>NaN</td>\n",
       "      <td>NaN</td>\n",
       "      <td>th</td>\n",
       "      <td>NaN</td>\n",
       "    </tr>\n",
       "  </tbody>\n",
       "</table>\n",
       "</div>"
      ],
      "text/plain": [
       "                                           client_id  \\\n",
       "0  00086f5dc46f9038f13bbd829c4118fab3ac28688d5ee8...   \n",
       "1  00245363f02e6f86a15de6793dc282d6f7095a8db6889b...   \n",
       "2  005237750a4d82bf743fe1e6eb0e4a579f0eb6a2455aaf...   \n",
       "3  00abfc84881a0c3f6166adb1549b4c17085df70b833144...   \n",
       "4  00d8e38f434aecc821a4b83ca441d1e780de1e71cae734...   \n",
       "\n",
       "                           path  \\\n",
       "0  common_voice_th_25695281.mp3   \n",
       "1  common_voice_th_31277118.mp3   \n",
       "2  common_voice_th_25722081.mp3   \n",
       "3  common_voice_th_25792357.mp3   \n",
       "4  common_voice_th_25695038.mp3   \n",
       "\n",
       "                                            sentence  up_votes  down_votes  \\\n",
       "0                                      ใครเป็นผู้รับ         2           0   \n",
       "1                              รู้ได้ไงว่าเขาไม่หนุก         2           0   \n",
       "2  การที่จะทำเค้กแต่งงานชั้นเลิศคุณจะต้องใช้น้ำตา...         3           0   \n",
       "3  เขาหยุด แล้วคว้ามือออกมา เฉียดตัวฉันไปเส้นยาแเ...         2           0   \n",
       "4        ผู้ชายคือช้างเท้าหน้า แต่ผู้หญิงคือควาญช้าง         2           1   \n",
       "\n",
       "   age gender accents locale segment  \n",
       "0  NaN    NaN     NaN     th     NaN  \n",
       "1  NaN    NaN     NaN     th     NaN  \n",
       "2  NaN    NaN     NaN     th     NaN  \n",
       "3  NaN    NaN     NaN     th     NaN  \n",
       "4  NaN    NaN     NaN     th     NaN  "
      ]
     },
     "execution_count": 4,
     "metadata": {},
     "output_type": "execute_result"
    }
   ],
   "source": [
    "df_path = \"../data/commonvoice11/annotation/validated.tsv\"\n",
    "\n",
    "df = pd.read_csv(df_path, sep=\"\\t\")\n",
    "\n",
    "df.head()"
   ]
  },
  {
   "cell_type": "code",
   "execution_count": 6,
   "metadata": {},
   "outputs": [
    {
     "name": "stderr",
     "output_type": "stream",
     "text": [
      "100%|██████████| 135897/135897 [16:13<00:00, 139.65it/s]\n"
     ]
    }
   ],
   "source": [
    "# ds_root = \"/home/nuttawac/lab_dataset/commonvoice11/data/clips_wav\"\n",
    "ds_root = \"../data/commonvoice11/clips/clips_wav\"\n",
    "\n",
    "gender_pred = []\n",
    "\n",
    "for i, row in tqdm(df.iterrows(), total=df.shape[0]):\n",
    "    audio_path = os.path.join(ds_root, row[\"path\"].replace(\".mp3\", \".wav\"))\n",
    "    signal, fs = torchaudio.load(audio_path) \n",
    "    output_probs, score, index, class_pred = classifier.classify_batch(signal)\n",
    "    pred_score = output_probs.numpy().tolist()[0]\n",
    "\n",
    "    gender_pred.append(class_pred[0].lower())\n",
    "\n",
    "df[\"gender pred\"] = gender_pred"
   ]
  },
  {
   "cell_type": "code",
   "execution_count": 7,
   "metadata": {},
   "outputs": [],
   "source": [
    "df.to_csv(\"./models/cv11_validated_pred.csv\", index=False)"
   ]
  },
  {
   "cell_type": "markdown",
   "metadata": {},
   "source": [
    "## Assign gender to each client_id"
   ]
  },
  {
   "cell_type": "code",
   "execution_count": 8,
   "metadata": {},
   "outputs": [],
   "source": [
    "def _get_gender(sub_df, col_name):\n",
    "\n",
    "    gender_counts = sub_df[col_name].value_counts()\n",
    "    gender = gender_counts.idxmax()\n",
    "    \n",
    "    if gender_counts.shape[0] > 1:\n",
    "        if gender_counts[\"male\"] == gender_counts[\"female\"]:\n",
    "            gender = \"Cant decide\"\n",
    "\n",
    "    return gender\n",
    "\n",
    "def assign_gender(df):\n",
    "    export_dict = {\n",
    "        \"client_id\": [],\n",
    "        # \"gender\": [],\n",
    "        \"gender pred\": []\n",
    "    }\n",
    "\n",
    "    df = df.set_index(\"client_id\")\n",
    "    for i in df.index.unique().tolist():\n",
    "        sub_df = df.loc[[i]]\n",
    "        # gt_gender = _get_gender(sub_df, \"gender\")\n",
    "        pred_gender = _get_gender(sub_df, \"gender pred\")\n",
    "\n",
    "        export_dict[\"client_id\"].append(i)\n",
    "        # export_dict[\"gender\"].append(gt_gender)\n",
    "        export_dict[\"gender pred\"].append(pred_gender)\n",
    "\n",
    "    return pd.DataFrame(export_dict)"
   ]
  },
  {
   "cell_type": "code",
   "execution_count": 9,
   "metadata": {},
   "outputs": [
    {
     "data": {
      "text/html": [
       "<div>\n",
       "<style scoped>\n",
       "    .dataframe tbody tr th:only-of-type {\n",
       "        vertical-align: middle;\n",
       "    }\n",
       "\n",
       "    .dataframe tbody tr th {\n",
       "        vertical-align: top;\n",
       "    }\n",
       "\n",
       "    .dataframe thead th {\n",
       "        text-align: right;\n",
       "    }\n",
       "</style>\n",
       "<table border=\"1\" class=\"dataframe\">\n",
       "  <thead>\n",
       "    <tr style=\"text-align: right;\">\n",
       "      <th></th>\n",
       "      <th>client_id</th>\n",
       "      <th>gender pred</th>\n",
       "    </tr>\n",
       "  </thead>\n",
       "  <tbody>\n",
       "    <tr>\n",
       "      <th>0</th>\n",
       "      <td>00086f5dc46f9038f13bbd829c4118fab3ac28688d5ee8...</td>\n",
       "      <td>male</td>\n",
       "    </tr>\n",
       "    <tr>\n",
       "      <th>1</th>\n",
       "      <td>00245363f02e6f86a15de6793dc282d6f7095a8db6889b...</td>\n",
       "      <td>female</td>\n",
       "    </tr>\n",
       "    <tr>\n",
       "      <th>2</th>\n",
       "      <td>005237750a4d82bf743fe1e6eb0e4a579f0eb6a2455aaf...</td>\n",
       "      <td>female</td>\n",
       "    </tr>\n",
       "    <tr>\n",
       "      <th>3</th>\n",
       "      <td>00abfc84881a0c3f6166adb1549b4c17085df70b833144...</td>\n",
       "      <td>male</td>\n",
       "    </tr>\n",
       "    <tr>\n",
       "      <th>4</th>\n",
       "      <td>00d8e38f434aecc821a4b83ca441d1e780de1e71cae734...</td>\n",
       "      <td>male</td>\n",
       "    </tr>\n",
       "  </tbody>\n",
       "</table>\n",
       "</div>"
      ],
      "text/plain": [
       "                                           client_id gender pred\n",
       "0  00086f5dc46f9038f13bbd829c4118fab3ac28688d5ee8...        male\n",
       "1  00245363f02e6f86a15de6793dc282d6f7095a8db6889b...      female\n",
       "2  005237750a4d82bf743fe1e6eb0e4a579f0eb6a2455aaf...      female\n",
       "3  00abfc84881a0c3f6166adb1549b4c17085df70b833144...        male\n",
       "4  00d8e38f434aecc821a4b83ca441d1e780de1e71cae734...        male"
      ]
     },
     "execution_count": 9,
     "metadata": {},
     "output_type": "execute_result"
    }
   ],
   "source": [
    "person_level_gender = assign_gender(df)\n",
    "\n",
    "person_level_gender.head()"
   ]
  },
  {
   "cell_type": "code",
   "execution_count": 10,
   "metadata": {},
   "outputs": [],
   "source": [
    "person_level_gender.to_csv(\"./models/cv11_gender_prediction.csv\")"
   ]
  },
  {
   "cell_type": "code",
   "execution_count": null,
   "metadata": {},
   "outputs": [],
   "source": []
  }
 ],
 "metadata": {
  "kernelspec": {
   "display_name": "Python 3.8.0 ('test_gender': conda)",
   "language": "python",
   "name": "python3"
  },
  "language_info": {
   "codemirror_mode": {
    "name": "ipython",
    "version": 3
   },
   "file_extension": ".py",
   "mimetype": "text/x-python",
   "name": "python",
   "nbconvert_exporter": "python",
   "pygments_lexer": "ipython3",
   "version": "3.8.0"
  },
  "orig_nbformat": 4,
  "vscode": {
   "interpreter": {
    "hash": "40d3513d1bd620163a5a048e97ff9b051f6e1fe40ffed1f7b60514b2057bc36e"
   }
  }
 },
 "nbformat": 4,
 "nbformat_minor": 2
}
