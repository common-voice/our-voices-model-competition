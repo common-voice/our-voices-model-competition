{
 "cells": [
  {
   "cell_type": "code",
   "execution_count": null,
   "metadata": {},
   "outputs": [],
   "source": [
    "import json\n",
    "import os\n",
    "import pandas as pd\n",
    "import librosa\n",
    "from tqdm import tqdm"
   ]
  },
  {
   "cell_type": "code",
   "execution_count": null,
   "metadata": {},
   "outputs": [],
   "source": [
    "ds_root = \"../clips/preprocess/wav_file\"\n",
    "df_root = \"../annotation/person_level\"\n",
    "to_add_root = \"thai_ser/clips/preprocess/wav_file\""
   ]
  },
  {
   "cell_type": "code",
   "execution_count": null,
   "metadata": {},
   "outputs": [],
   "source": [
    "\n",
    "def generate_annotation(df, ds_root):\n",
    "    export_dict = dict()\n",
    "    for i, row in tqdm(df.iterrows(), total=df.shape[0]):\n",
    "        fpath = os.path.join(ds_root, row[\"File Name\"])\n",
    "        # wav, sr = librosa.load(fpath, sr=16000)\n",
    "        # duration = librosa.get_duration(y=wav, sr=sr)\n",
    "        duration = librosa.get_duration(filename=fpath)\n",
    "        gender = \"Male\" if row[\"Sex\"]==\"M\" else \"Female\"\n",
    "\n",
    "        sub_dict = {\n",
    "            \"wav\": os.path.join(str(\"{data_root}\"), os.path.join(to_add_root, row[\"File Name\"])),\n",
    "            \"duration\": duration, \n",
    "            \"gender\": gender,\n",
    "            \"spk_id\": gender\n",
    "        }\n",
    "\n",
    "        export_dict[row[\"File Name\"]] = sub_dict\n",
    "\n",
    "    return export_dict"
   ]
  },
  {
   "cell_type": "code",
   "execution_count": null,
   "metadata": {},
   "outputs": [],
   "source": [
    "for df_name in os.listdir(df_root):\n",
    "    df_path = os.path.join(df_root, df_name)\n",
    "    dst_name = df_name.replace(\".csv\", \".json\")\n",
    "    df = pd.read_csv(df_path)\n",
    "\n",
    "    export_dict = generate_annotation(df, ds_root)\n",
    "    with open(\"../annotation/gender_classification_manifest/{}\".format(dst_name), \"w\") as fp:\n",
    "        fp.write(json.dumps(export_dict, indent=4))\n"
   ]
  },
  {
   "cell_type": "code",
   "execution_count": null,
   "metadata": {},
   "outputs": [],
   "source": []
  }
 ],
 "metadata": {
  "kernelspec": {
   "display_name": "Python 3.8.13 ('gender_clf_2': conda)",
   "language": "python",
   "name": "python3"
  },
  "language_info": {
   "codemirror_mode": {
    "name": "ipython",
    "version": 3
   },
   "file_extension": ".py",
   "mimetype": "text/x-python",
   "name": "python",
   "nbconvert_exporter": "python",
   "pygments_lexer": "ipython3",
   "version": "3.8.13"
  },
  "orig_nbformat": 4,
  "vscode": {
   "interpreter": {
    "hash": "100dcf692c84cb87d59b66a67080d46488ebcac03d436d44df94de0840edb7d7"
   }
  }
 },
 "nbformat": 4,
 "nbformat_minor": 2
}
